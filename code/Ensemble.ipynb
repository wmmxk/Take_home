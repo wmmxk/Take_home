{
 "cells": [
  {
   "cell_type": "code",
   "execution_count": 1,
   "metadata": {
    "collapsed": true
   },
   "outputs": [],
   "source": [
    "#note average two predictions"
   ]
  },
  {
   "cell_type": "code",
   "execution_count": 2,
   "metadata": {
    "collapsed": true
   },
   "outputs": [],
   "source": [
    "import pandas as pd\n",
    "import glob\n",
    "import scipy.stats"
   ]
  },
  {
   "cell_type": "code",
   "execution_count": 3,
   "metadata": {
    "collapsed": true
   },
   "outputs": [],
   "source": [
    "#load files to a list of data.frame\n",
    "files = glob.glob(\"../output/*csv\")\n",
    "\n",
    "dfs = []\n",
    "for file in files:\n",
    "    df = pd.read_csv(file)\n",
    "    dfs.append(df)\n",
    "\n",
    "#concatenate the data.frames and then group by index\n",
    "preds = pd.concat(dfs, axis=0)\n",
    "preds = preds.groupby(preds.index).mean()"
   ]
  },
  {
   "cell_type": "code",
   "execution_count": 4,
   "metadata": {},
   "outputs": [
    {
     "name": "stdout",
     "output_type": "stream",
     "text": [
      "Sanity check\n",
      "PCC:  0.998731162668\n",
      "PCC:  0.998791765714\n"
     ]
    }
   ],
   "source": [
    "# If everything goes well, a PCC close to one is supposed to see\n",
    "print(\"Sanity check\")\n",
    "for i in range(len(files)):\n",
    "    PCC = scipy.stats.pearsonr(dfs[i][\"prediction\"],preds[\"prediction\"])[0]\n",
    "    print(\"PCC: \", PCC)"
   ]
  },
  {
   "cell_type": "code",
   "execution_count": 5,
   "metadata": {
    "collapsed": true
   },
   "outputs": [],
   "source": [
    "#save the averaged prediction (the preds data.frame loses the categorical columns)\n",
    "#save the averaged prediction \n",
    "test = pd.read_csv('../data/intern_test.csv')\n",
    "output = pd.DataFrame(test.iloc[:,0])\n",
    "output[\"prediction\"] = preds[\"prediction\"]\n",
    "output.columns = [\"i\",\"y\"]\n",
    "output.to_csv(\"../final_submission/submission_ensemble.csv\",index=False)"
   ]
  }
 ],
 "metadata": {
  "kernelspec": {
   "display_name": "Python 3",
   "language": "python",
   "name": "python3"
  },
  "language_info": {
   "codemirror_mode": {
    "name": "ipython",
    "version": 3
   },
   "file_extension": ".py",
   "mimetype": "text/x-python",
   "name": "python",
   "nbconvert_exporter": "python",
   "pygments_lexer": "ipython3",
   "version": "3.6.1"
  }
 },
 "nbformat": 4,
 "nbformat_minor": 2
}
