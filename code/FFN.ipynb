{
 "cells": [
  {
   "cell_type": "code",
   "execution_count": 1,
   "metadata": {},
   "outputs": [
    {
     "name": "stderr",
     "output_type": "stream",
     "text": [
      "/home/wxk/anaconda2/envs/py3/lib/python3.6/site-packages/sklearn/cross_validation.py:41: DeprecationWarning: This module was deprecated in version 0.18 in favor of the model_selection module into which all the refactored classes and functions are moved. Also note that the interface of the new CV iterators are different from that of this module. This module will be removed in 0.20.\n",
      "  \"This module will be removed in 0.20.\", DeprecationWarning)\n",
      "Using TensorFlow backend.\n"
     ]
    }
   ],
   "source": [
    "import numpy as np\n",
    "import sys\n",
    "import pandas as pd\n",
    "\n",
    "from sklearn.metrics import mean_absolute_error\n",
    "\n",
    "from sklearn.cross_validation import KFold\n",
    "from keras.models import Sequential\n",
    "from keras.layers import Dense, Dropout, Activation\n",
    "from keras.layers.normalization import BatchNormalization\n",
    "from keras.layers.advanced_activations import PReLU\n",
    "\n",
    "from keras.callbacks import EarlyStopping\n",
    "\n",
    "import matplotlib.pyplot as plt\n",
    "%matplotlib inline\n",
    "\n",
    "import scipy"
   ]
  },
  {
   "cell_type": "code",
   "execution_count": 2,
   "metadata": {
    "collapsed": true
   },
   "outputs": [],
   "source": [
    "train =pd.read_csv('../data/intern_data.csv').iloc[:,1:]\n",
    "test = pd.read_csv('../data/intern_test.csv').iloc[:,1:]\n",
    "num = train.shape[0]\n",
    "\n",
    "tr_te = pd.concat((train, test), axis = 0)\n",
    "tr_te_num = pd.get_dummies(tr_te)"
   ]
  },
  {
   "cell_type": "code",
   "execution_count": 3,
   "metadata": {
    "collapsed": true,
    "scrolled": true
   },
   "outputs": [],
   "source": [
    "\n",
    "tr_te_num  = tr_te_num.apply(lambda x: (x - np.mean(x)) / (np.max(x) - np.min(x)))\n",
    "xtrain,xtest = np.split(tr_te_num.loc[:, tr_te_num.columns != 'y'], [num], axis=0)\n",
    "xtrain = xtrain.values\n",
    "xtest = xtest.values\n",
    "y = train.loc[:,'y']\n"
   ]
  },
  {
   "cell_type": "code",
   "execution_count": 4,
   "metadata": {
    "collapsed": true
   },
   "outputs": [],
   "source": [
    "## neural net\n",
    "def create_model(num_input):\n",
    "    model = Sequential()\n",
    "    \n",
    "    model.add(Dense(num_input, input_dim = xtrain.shape[1], init = 'he_normal'))\n",
    "    model.add(PReLU())\n",
    "    model.add(BatchNormalization())\n",
    "        \n",
    "    model.add(Dense(220)) \n",
    "    model.add(PReLU())\n",
    "    model.add(BatchNormalization())    \n",
    "    model.add(Dropout(0.3))\n",
    "    \n",
    "    model.add(Dense(60))\n",
    "    model.add(PReLU())\n",
    "    model.add(BatchNormalization())    \n",
    "    model.add(Dropout(0.2))\n",
    "    \n",
    "    model.add(Dense(1))\n",
    "    model.compile(loss = 'mae', optimizer = 'adam')\n",
    "    return(model)\n"
   ]
  },
  {
   "cell_type": "code",
   "execution_count": 5,
   "metadata": {
    "collapsed": true
   },
   "outputs": [],
   "source": [
    "nfolds = 5\n",
    "folds = KFold(len(y), n_folds = nfolds, shuffle = True, random_state = 2018)\n"
   ]
  },
  {
   "cell_type": "code",
   "execution_count": 6,
   "metadata": {
    "collapsed": true
   },
   "outputs": [],
   "source": [
    "#early stopping is not helpful, manually tweaking is \n",
    "callbacks = [\n",
    "    EarlyStopping(monitor='val_loss', patience = 30, verbose=0)\n",
    "]"
   ]
  },
  {
   "cell_type": "code",
   "execution_count": 7,
   "metadata": {},
   "outputs": [
    {
     "name": "stderr",
     "output_type": "stream",
     "text": [
      "/home/wxk/anaconda2/envs/py3/lib/python3.6/site-packages/ipykernel_launcher.py:5: UserWarning: Update your `Dense` call to the Keras 2 API: `Dense(12, input_dim=12, kernel_initializer=\"he_normal\")`\n",
      "  \"\"\"\n",
      "/home/wxk/anaconda2/envs/py3/lib/python3.6/site-packages/ipykernel_launcher.py:17: DeprecationWarning: assignment will raise an error in the future, most likely because your index result shape does not match the value array shape. You can use `arr.flat[index] = values` to keep the old behaviour.\n"
     ]
    },
    {
     "name": "stdout",
     "output_type": "stream",
     "text": [
      "Fold  1 - MAE: 0.11388632739\n",
      "Fold  2 - MAE: 0.109613764618\n",
      "Fold  3 - MAE: 0.0907788301974\n",
      "Fold  4 - MAE: 0.110360291859\n",
      "Fold  5 - MAE: 0.102450333028\n"
     ]
    }
   ],
   "source": [
    "i = 1\n",
    "epochs = 260\n",
    "preds_test = np.zeros(xtest.shape[0])\n",
    "\n",
    "preds = np.zeros(xtrain.shape[0])\n",
    "for (inTr, inTe) in folds:\n",
    "    xtr = xtrain[inTr]\n",
    "    ytr = y[inTr]\n",
    "    xte = xtrain[inTe] # xte is xde in fact\n",
    "    yte = y[inTe]\n",
    "    pred = np.zeros(xte.shape[0])\n",
    "    model = create_model(xtr.shape[1])\n",
    " \n",
    "    fit = model.fit(xtr ,ytr,verbose = 0,epochs= epochs, batch_size=32,shuffle= True)\n",
    "    pred = model.predict(xte)\n",
    "    score = mean_absolute_error(yte, pred)\n",
    "    preds[inTe] = pred\n",
    "    print('Fold ', i, '- MAE:', score)\n",
    "    i += 1\n",
    "    \n",
    "    #predict on the testing set\n",
    "    preds_test += model.predict(xtest)[:,0]\n",
    "    \n",
    "# average and save the predictions on testing set \n",
    "preds_test /= nfolds \n",
    "test[\"prediction\"] = preds_test\n",
    "test.to_csv(\"../output/submission_ANN.csv\",index=False)\n",
    "\n"
   ]
  },
  {
   "cell_type": "code",
   "execution_count": 8,
   "metadata": {
    "scrolled": true
   },
   "outputs": [
    {
     "data": {
      "text/plain": [
       "<matplotlib.text.Text at 0x7f642765b898>"
      ]
     },
     "execution_count": 8,
     "metadata": {},
     "output_type": "execute_result"
    },
    {
     "data": {
      "image/png": "[encoded data removed]",
      "text/plain": [
       "<matplotlib.figure.Figure at 0x7f642765b748>"
      ]
     },
     "metadata": {},
     "output_type": "display_data"
    }
   ],
   "source": [
    "\n",
    "plt.scatter(y,preds)\n",
    "\n",
    "scipy.stats.pearsonr(y,preds)\n",
    "\n",
    "plt.xlabel('Truth')\n",
    "plt.ylabel('Prediction')\n",
    "\n",
    "PCC = round(scipy.stats.pearsonr(y,preds)[0],3)\n",
    "\n",
    "plt.text(np.min(y)*1.1, 0.95*np.max(preds), r'PCC='+str(PCC),\n",
    "         fontsize=10)"
   ]
  },
  {
   "cell_type": "code",
   "execution_count": null,
   "metadata": {
    "collapsed": true
   },
   "outputs": [],
   "source": []
  }
 ],
 "metadata": {
  "kernelspec": {
   "display_name": "Python 3",
   "language": "python",
   "name": "python3"
  },
  "language_info": {
   "codemirror_mode": {
    "name": "ipython",
    "version": 3
   },
   "file_extension": ".py",
   "mimetype": "text/x-python",
   "name": "python",
   "nbconvert_exporter": "python",
   "pygments_lexer": "ipython3",
   "version": "3.6.1"
  }
 },
 "nbformat": 4,
 "nbformat_minor": 2
}
