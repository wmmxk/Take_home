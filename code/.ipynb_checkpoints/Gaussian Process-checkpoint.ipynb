{
 "cells": [
  {
   "cell_type": "code",
   "execution_count": 1,
   "metadata": {},
   "outputs": [
    {
     "name": "stderr",
     "output_type": "stream",
     "text": [
      "/home/wxk/anaconda2/envs/py3/lib/python3.6/site-packages/sklearn/cross_validation.py:41: DeprecationWarning: This module was deprecated in version 0.18 in favor of the model_selection module into which all the refactored classes and functions are moved. Also note that the interface of the new CV iterators are different from that of this module. This module will be removed in 0.20.\n",
      "  \"This module will be removed in 0.20.\", DeprecationWarning)\n"
     ]
    }
   ],
   "source": [
    "import numpy as np\n",
    "import pandas as pd\n",
    "\n",
    "\n",
    "from sklearn.cross_validation import KFold\n",
    "from sklearn.metrics import mean_absolute_error\n",
    "from sklearn.gaussian_process.kernels import RBF,Matern\n",
    "from sklearn.gaussian_process import GaussianProcessRegressor\n",
    "\n",
    "import pickle\n",
    "\n",
    "from matplotlib import pyplot as plt\n",
    "import matplotlib as mpl\n",
    "mpl.rcParams['figure.dpi']= 200\n",
    "%matplotlib inline\n",
    "import scipy\n"
   ]
  },
  {
   "cell_type": "code",
   "execution_count": 2,
   "metadata": {
    "collapsed": true
   },
   "outputs": [],
   "source": [
    "# load the data\n",
    "train =pd.read_csv('../data/intern_data.csv').iloc[:,1:]\n",
    "test = pd.read_csv('../data/intern_test.csv').iloc[:,1:]\n",
    "num = train.shape[0]\n",
    "\n",
    "#merge training set with testing test before center the data\n",
    "tr_te = pd.concat((train, test), axis = 0)\n",
    "#convert categorical column to dummy variable\n",
    "tr_te_num = pd.get_dummies(tr_te)"
   ]
  },
  {
   "cell_type": "code",
   "execution_count": 3,
   "metadata": {
    "collapsed": true,
    "scrolled": true
   },
   "outputs": [],
   "source": [
    "# center the dataset\n",
    "tr_te_num  = tr_te_num.apply(lambda x: (x - np.mean(x)) / (np.max(x) - np.min(x)))\n",
    "xtrain,xtest = np.split(tr_te_num.loc[:, tr_te_num.columns != 'y'], [num], axis=0)\n",
    "xtrain = xtrain.values\n",
    "xtest = xtest.values\n",
    "\n",
    "# original y is used\n",
    "y = train.loc[:,'y']\n"
   ]
  },
  {
   "cell_type": "code",
   "execution_count": 11,
   "metadata": {},
   "outputs": [
    {
     "name": "stdout",
     "output_type": "stream",
     "text": [
      "Fold  1 - MAE: 0.0998985937808\n",
      "Fold  2 - MAE: 0.115097034445\n",
      "Fold  3 - MAE: 0.0942147418984\n",
      "Fold  4 - MAE: 0.108576533026\n",
      "Fold  5 - MAE: 0.109740396712\n"
     ]
    }
   ],
   "source": [
    "# create the KFold instance\n",
    "nfolds = 5\n",
    "folds = KFold(len(y), n_folds = nfolds, shuffle = True, random_state = 2018)\n",
    "\n",
    "# create two arrays to hold the prediction on training set and testing set\n",
    "preds_train = np.zeros(xtrain.shape[0])\n",
    "preds_test = np.zeros(xtest.shape[0])\n",
    "\n",
    "fold_index = 1\n",
    "for (inTr, inVal) in folds:\n",
    "    # split the training set \n",
    "    xtr = xtrain[inTr]\n",
    "    ytr = y[inTr]\n",
    "    xval = xtrain[inVal] \n",
    "    yval = y[inVal]\n",
    " \n",
    "    # Define a isotropic Matern kernel\n",
    "    kernel_Matern = 1.0 * Matern([1.0]*xtrain.shape[1])\n",
    "    \n",
    "    # train and save the trained model\n",
    "    file_name = '../trained_model/gp'+str(fold_index)+\".sav\"\n",
    "    gp = GaussianProcessRegressor(kernel = kernel_Matern, n_restarts_optimizer=1)\n",
    "    gp.fit(xtr, ytr)\n",
    "    pickle.dump(gp, open(file_name, 'wb'))\n",
    "    \n",
    "    # predict on the validation set\n",
    "    pred = gp.predict(xval, return_std=False)\n",
    "    score = mean_absolute_error(yval, pred)\n",
    "    preds_train[inVal] = pred\n",
    "    print('Fold ', fold_index, '- MAE:', score)\n",
    "    fold_index += 1\n",
    "    \n",
    "    #predict on the testing set\n",
    "    preds_test += gp.predict(xtest,return_std = False)\n",
    "    \n",
    "# average and save the predictions on testing set \n",
    "preds_test /= nfolds \n",
    "test[\"prediction\"] = preds_test\n",
    "test.to_csv(\"../output/submission.csv\",index=False)"
   ]
  },
  {
   "cell_type": "code",
   "execution_count": 12,
   "metadata": {
    "scrolled": true
   },
   "outputs": [
    {
     "data": {
      "text/plain": [
       "<matplotlib.text.Text at 0x7f5b767386d8>"
      ]
     },
     "execution_count": 12,
     "metadata": {},
     "output_type": "execute_result"
    },
    {
     "data": {
      "image/png": "[encoded data removed]",
      "text/plain": [
       "<matplotlib.figure.Figure at 0x7f5b7666ee80>"
      ]
     },
     "metadata": {},
     "output_type": "display_data"
    }
   ],
   "source": [
    "# visualize the prediction on the training set\n",
    "fig = plt.figure(figsize= (2.5,2))\n",
    "\n",
    "plt.scatter(y,preds_train)\n",
    "plt.xlabel('Truth')\n",
    "plt.ylabel('Prediction')\n",
    "\n",
    "PCC = round(scipy.stats.pearsonr(y,preds_train)[0],2)\n",
    "\n",
    "plt.text(np.min(y)*1.1, 0.95*np.max(preds_train), r'PCC='+str(PCC),\n",
    "         fontsize=10)"
   ]
  },
  {
   "cell_type": "code",
   "execution_count": null,
   "metadata": {
    "collapsed": true
   },
   "outputs": [],
   "source": []
  }
 ],
 "metadata": {
  "kernelspec": {
   "display_name": "Python 3",
   "language": "python",
   "name": "python3"
  },
  "language_info": {
   "codemirror_mode": {
    "name": "ipython",
    "version": 3
   },
   "file_extension": ".py",
   "mimetype": "text/x-python",
   "name": "python",
   "nbconvert_exporter": "python",
   "pygments_lexer": "ipython3",
   "version": "3.6.1"
  }
 },
 "nbformat": 4,
 "nbformat_minor": 2
}
