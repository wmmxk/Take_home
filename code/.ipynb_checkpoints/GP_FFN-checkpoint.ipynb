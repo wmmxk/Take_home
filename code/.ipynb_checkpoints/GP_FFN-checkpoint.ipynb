{
 "cells": [
  {
   "cell_type": "code",
   "execution_count": 1,
   "metadata": {
    "scrolled": true
   },
   "outputs": [
    {
     "name": "stderr",
     "output_type": "stream",
     "text": [
      "/home/wxk/anaconda2/envs/py3/lib/python3.6/site-packages/sklearn/cross_validation.py:41: DeprecationWarning: This module was deprecated in version 0.18 in favor of the model_selection module into which all the refactored classes and functions are moved. Also note that the interface of the new CV iterators are different from that of this module. This module will be removed in 0.20.\n",
      "  \"This module will be removed in 0.20.\", DeprecationWarning)\n",
      "Using TensorFlow backend.\n"
     ]
    }
   ],
   "source": [
    "import pandas as pd\n",
    "import numpy as np\n",
    "from sklearn.cross_validation import KFold\n",
    "from sklearn.metrics import mean_absolute_error\n",
    "from matplotlib import pyplot as plt\n",
    "%matplotlib inline\n",
    "import pickle\n",
    "import os\n",
    "import scipy\n",
    "\n",
    "#import modules you defined\n",
    "import  helpers.models  as create_models  #functions for creating model"
   ]
  },
  {
   "cell_type": "code",
   "execution_count": 2,
   "metadata": {
    "collapsed": true
   },
   "outputs": [],
   "source": [
    "def preprocess_data(train_path,test_path):\n",
    "    '''\n",
    "    inputs: two paths for two data.frames\n",
    "    outputs: two numpy arrays: xtrain, xtest\n",
    "             y: a 1-d numpy array\n",
    "             test_index: a pd.series, which will be included in the final submission\n",
    "    '''\n",
    "    # load the data\n",
    "    train =pd.read_csv(train_path).iloc[:,1:]\n",
    "    test_whole = pd.read_csv(test_path)\n",
    "    test_index = test_whole.iloc[:,0]  # used in the final prediction\n",
    "    test = test_whole.iloc[:,1:]\n",
    "    num = train.shape[0]\n",
    "\n",
    "    #merge training set with testing test before center the data\n",
    "    #convert categorical column to dummy variable\n",
    "    tr_te = pd.concat((train, test), axis = 0)\n",
    "    tr_te = pd.get_dummies(tr_te)  \n",
    "\n",
    "    # center the dataset and then split tr_te (y is not centered)\n",
    "    tr_te  = tr_te.apply(lambda x: (x - np.mean(x)) / (np.max(x) - np.min(x)))\n",
    "    xtrain,xtest = np.split(tr_te.loc[:, tr_te.columns != 'y'], [num], axis=0)\n",
    "    xtrain = xtrain.values\n",
    "    xtest = xtest.values\n",
    "    y = train.loc[:,'y']\n",
    "    \n",
    "    return(xtrain, xtest,y,test_index)"
   ]
  },
  {
   "cell_type": "code",
   "execution_count": 9,
   "metadata": {
    "collapsed": true
   },
   "outputs": [],
   "source": [
    "def cross_val_prediction(xtrain,xtest,model_name=\"GP\",nfolds=5,epochs=260):\n",
    "    '''\n",
    "    inputs: two numpy arrays: xtrain, xtest; xtrain for training a model which predicts on xtest.\n",
    "            model_name: a string; used when specifying which model to use.\n",
    "            nfolds: an integer; how many folds to split in cross validation.\n",
    "            epochs: an integer; used only for FFN model\n",
    "    outputs: pred_train: a 1-d numpy array which stores the prediction on training set during cross-validation\n",
    "             pred_test: a 1-d numpy array holding the predictions on testing set\n",
    "    '''\n",
    "    folds = KFold(len(y), n_folds = nfolds, shuffle = True, random_state = 2018)\n",
    "    pred_train = np.zeros(xtrain.shape[0])\n",
    "    pred_test = np.zeros(xtest.shape[0])\n",
    "    \n",
    "    fold_index = 1\n",
    "    for (inTr, inVal) in folds:\n",
    "        # split the training set \n",
    "        xtr = xtrain[inTr]\n",
    "        ytr = y[inTr]\n",
    "        xval = xtrain[inVal] \n",
    "        yval = y[inVal]\n",
    "\n",
    "        #get a specific function for creating a model\n",
    "        create_model = getattr(create_models,\"create_\"+model_name)\n",
    "        model = create_model(xtr.shape[1])\n",
    "        \n",
    "        # train and save the trained model\n",
    "        model_path = os.path.join('../trained_model',model_name,str(fold_index)+\".sav\")\n",
    "        if model_name == 'GP':\n",
    "            model.fit(xtr, ytr)\n",
    "            pred = model.predict(xval, return_std=False)\n",
    "            pred_test += model.predict(xtest,return_std = False)\n",
    "            pickle.dump(model, open(model_path, 'wb'))\n",
    "        else:\n",
    "            model.fit(xtr ,ytr,verbose = 0,epochs= epochs, batch_size=32,shuffle= True)\n",
    "            pred = model.predict(xval)[:,0]\n",
    "            pred_test += model.predict(xtest)[:,0]\n",
    "            model.save(model_path)\n",
    "        \n",
    "        #compute the MAE on the left-out fold\n",
    "        MAE = mean_absolute_error(yval, pred)\n",
    "        print('Fold ', fold_index, '- MAE:', MAE)\n",
    "        fold_index += 1\n",
    "        \n",
    "        #update the prediction for the left-out fold\n",
    "        pred_train[inVal] = pred\n",
    "        \n",
    "    # average the predictions in each fold \n",
    "    pred_test /= nfolds \n",
    "    return (pred_train,pred_test)"
   ]
  },
  {
   "cell_type": "code",
   "execution_count": 15,
   "metadata": {},
   "outputs": [
    {
     "name": "stdout",
     "output_type": "stream",
     "text": [
      "training:  GP\n",
      "Fold  1 - MAE: 0.0998985937808\n",
      "Fold  2 - MAE: 0.115097034445\n",
      "Fold  3 - MAE: 0.0942147418984\n",
      "Fold  4 - MAE: 0.108576533026\n",
      "Fold  5 - MAE: 0.109740396712\n",
      "training:  FFN\n",
      "Fold  1 - MAE: 0.0905971803358\n",
      "Fold  2 - MAE: 0.112240327177\n",
      "Fold  3 - MAE: 0.0993283141292\n",
      "Fold  4 - MAE: 0.098198343404\n",
      "Fold  5 - MAE: 0.0928333298158\n"
     ]
    }
   ],
   "source": [
    "#preprocess data\n",
    "train_path = \"../data/intern_data.csv\"\n",
    "test_path = \"../data/intern_test.csv\"\n",
    "xtrain, xtest,y,test_index = preprocess_data(train_path,test_path)\n",
    "\n",
    "\n",
    "# train the two models\n",
    "model_names = ['GP','FFN']\n",
    "preds_train =[]\n",
    "preds_test = []\n",
    "for model_name in model_names:\n",
    "    print(\"training: \",model_name)\n",
    "    pred_train, pred_test = cross_val_prediction(xtrain,xtest,model_name=model_name,nfolds=5)\n",
    "    preds_train.append(pred_train)\n",
    "    preds_test.append(pred_test)"
   ]
  },
  {
   "cell_type": "code",
   "execution_count": 16,
   "metadata": {
    "scrolled": true
   },
   "outputs": [
    {
     "data": {
      "image/png": "[encoded data removed]",
      "text/plain": [
       "<matplotlib.figure.Figure at 0x7fd48e509780>"
      ]
     },
     "metadata": {},
     "output_type": "display_data"
    }
   ],
   "source": [
    "#visualize the predictions on training set during cross validation\n",
    "fig, axs = plt.subplots(1,2, figsize=(9, 4), facecolor='w', edgecolor='k')\n",
    "fig.subplots_adjust(hspace = 2, wspace=0.5)\n",
    "\n",
    "axs = axs.ravel()\n",
    "\n",
    "for i,pred_train in enumerate(preds_train):\n",
    "\n",
    "    axs[i].scatter(y,pred_train)\n",
    "    axs[i].set_xlabel('Truth')\n",
    "    axs[i].set_ylabel('Prediction')\n",
    "    \n",
    "    PCC = round(scipy.stats.pearsonr(y,pred_train)[0],3)\n",
    "\n",
    "    axs[i].text(np.min(y)*1.1, 0.95*np.max(pred_train), r'PCC='+str(PCC),\n",
    "         fontsize=10)\n",
    "    axs[i].set_title(model_names[i])"
   ]
  },
  {
   "cell_type": "code",
   "execution_count": 17,
   "metadata": {
    "collapsed": true
   },
   "outputs": [],
   "source": [
    "#average the predictions on the test set\n",
    "preds_test = np.array(preds_test)\n",
    "final_pred_test = np.mean(preds_test,axis=0)"
   ]
  },
  {
   "cell_type": "code",
   "execution_count": 18,
   "metadata": {
    "scrolled": true
   },
   "outputs": [
    {
     "data": {
      "image/png": "[encoded data removed]",
      "text/plain": [
       "<matplotlib.figure.Figure at 0x7fd48d2352e8>"
      ]
     },
     "metadata": {},
     "output_type": "display_data"
    }
   ],
   "source": [
    "#sanity check on the predictions on testing set: the two histgrams are supposed to look similar\n",
    "fig, axs = plt.subplots(1,2, figsize=(9, 4), facecolor='w', edgecolor='k')\n",
    "fig.subplots_adjust(hspace = 2, wspace=0.5)\n",
    "axs = axs.ravel()\n",
    "\n",
    "for i in range(2):\n",
    "    data = y if i == 0 else final_pred_test\n",
    "    axs[i].hist(data)\n"
   ]
  },
  {
   "cell_type": "code",
   "execution_count": 19,
   "metadata": {
    "collapsed": true
   },
   "outputs": [],
   "source": [
    "#save predictions\n",
    "res = pd.DataFrame(test_index)\n",
    "res['y'] = final_pred_test\n",
    "res.columns = ['i','y']\n",
    "res.to_csv(\"../output/intern_test.csv\",index=False)"
   ]
  }
 ],
 "metadata": {
  "kernelspec": {
   "display_name": "Python 3",
   "language": "python",
   "name": "python3"
  },
  "language_info": {
   "codemirror_mode": {
    "name": "ipython",
    "version": 3
   },
   "file_extension": ".py",
   "mimetype": "text/x-python",
   "name": "python",
   "nbconvert_exporter": "python",
   "pygments_lexer": "ipython3",
   "version": "3.6.1"
  }
 },
 "nbformat": 4,
 "nbformat_minor": 2
}
